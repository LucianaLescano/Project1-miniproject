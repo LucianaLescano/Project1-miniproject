{
 "cells": [
  {
   "cell_type": "code",
   "execution_count": 96,
   "metadata": {},
   "outputs": [],
   "source": [
    "house = [\"bed\", \"pillow\", \"tv\", \"chair\", \"sofa\", \"couch\", \"shelf\", \"table\", \"closet\", \"sink\", \"washer\", \"door\", \"windows\", \"stove\", \"cabinets\", \"iron\", \"AC\", \"wc\"]"
   ]
  },
  {
   "cell_type": "code",
   "execution_count": 97,
   "metadata": {},
   "outputs": [],
   "source": [
    "#abc = [\"abcdefghijklmnñopqrstuwxyz\"]\n",
    "#abc = [\"a\", \"b\", \"c\", \"d\", \"e\", \"f\", \"g\", \"h\", \"i\", \"j\", \"k\", \"l\", \"m\", \"n\", \"ñ\", \"o\", \"p\", \"q\", \"r\", \"s\", \"t\",\"u\", \"w\", \"x\", \"y\", \"z\"]"
   ]
  },
  {
   "cell_type": "code",
   "execution_count": 98,
   "metadata": {},
   "outputs": [],
   "source": [
    "import random"
   ]
  },
  {
   "cell_type": "code",
   "execution_count": 99,
   "metadata": {},
   "outputs": [
    {
     "name": "stdout",
     "output_type": "stream",
     "text": [
      "cabinets\n"
     ]
    }
   ],
   "source": [
    "word_to_guess = random.choice(house)\n",
    "print(word_to_guess)"
   ]
  },
  {
   "cell_type": "code",
   "execution_count": 100,
   "metadata": {},
   "outputs": [],
   "source": [
    "#incluir en una lista todas las letras del abc para obligar a que sea una de esas opciones\n",
    "#y no pueda meter multiples letras, fijarme en rock-paper-scissors.\n",
    "#words_options = []\n",
    "#print(\"choose a letter\")"
   ]
  },
  {
   "cell_type": "code",
   "execution_count": 101,
   "metadata": {},
   "outputs": [
    {
     "name": "stdout",
     "output_type": "stream",
     "text": [
      "********\n"
     ]
    }
   ],
   "source": [
    "#letra no guessed = *\n",
    "#letra guessed = letra\n",
    "choosen_word = \"*\" * len(word_to_guess)\n",
    "print(choosen_word)"
   ]
  },
  {
   "cell_type": "code",
   "execution_count": 102,
   "metadata": {},
   "outputs": [],
   "source": [
    "hang = True"
   ]
  },
  {
   "cell_type": "code",
   "execution_count": 103,
   "metadata": {},
   "outputs": [],
   "source": [
    "letters_already_choosen = []\n",
    "words_already_choosen = []"
   ]
  },
  {
   "cell_type": "code",
   "execution_count": 104,
   "metadata": {},
   "outputs": [],
   "source": [
    "to_lose = 6\n",
    "lost_rounds = 0"
   ]
  },
  {
   "cell_type": "code",
   "execution_count": 105,
   "metadata": {},
   "outputs": [
    {
     "name": "stdout",
     "output_type": "stream",
     "text": [
      "Let's play!!!!!!!\n",
      "Hint: house\n",
      "choose a letter\n"
     ]
    }
   ],
   "source": [
    "print(\"Let's play!!!!!!!\\nHint: house\")\n",
    "print(\"choose a letter\")"
   ]
  },
  {
   "cell_type": "code",
   "execution_count": 106,
   "metadata": {},
   "outputs": [
    {
     "name": "stdout",
     "output_type": "stream",
     "text": [
      "you option is: a\n",
      "yaaasssss\n",
      "*a******\n",
      "you option is: b\n",
      "yaaasssss\n",
      "*ab*****\n",
      "you option is: w\n",
      "upssss\n",
      "*ab*****\n",
      "you option is: q\n",
      "upssss\n",
      "*ab*****\n",
      "you option is: ñ\n",
      "upssss\n",
      "*ab*****\n",
      "you option is: \n",
      "sorry, you must choose a letter\n",
      "you option is: p\n",
      "upssss\n",
      "*ab*****\n",
      "you option is: r\n",
      "upssss\n",
      "*ab*****\n",
      "you option is: y\n",
      "upssss\n",
      "*ab*****\n"
     ]
    },
    {
     "ename": "KeyboardInterrupt",
     "evalue": "Interrupted by user",
     "output_type": "error",
     "traceback": [
      "\u001b[0;31m---------------------------------------------------------------------------\u001b[0m",
      "\u001b[0;31mKeyboardInterrupt\u001b[0m                         Traceback (most recent call last)",
      "\u001b[0;32m<ipython-input-106-5b3b0f117d16>\u001b[0m in \u001b[0;36m<module>\u001b[0;34m\u001b[0m\n\u001b[1;32m      1\u001b[0m \u001b[0;32mwhile\u001b[0m \u001b[0mhang\u001b[0m \u001b[0;32mand\u001b[0m \u001b[0mlost_rounds\u001b[0m \u001b[0;34m<=\u001b[0m \u001b[0mto_lose\u001b[0m\u001b[0;34m:\u001b[0m\u001b[0;34m\u001b[0m\u001b[0;34m\u001b[0m\u001b[0m\n\u001b[0;32m----> 2\u001b[0;31m     \u001b[0mw\u001b[0m \u001b[0;34m=\u001b[0m \u001b[0minput\u001b[0m\u001b[0;34m(\u001b[0m\u001b[0;34m\"you option is: \"\u001b[0m\u001b[0;34m)\u001b[0m\u001b[0;34m.\u001b[0m\u001b[0mlower\u001b[0m\u001b[0;34m(\u001b[0m\u001b[0;34m)\u001b[0m\u001b[0;34m\u001b[0m\u001b[0;34m\u001b[0m\u001b[0m\n\u001b[0m\u001b[1;32m      3\u001b[0m     \u001b[0;32mif\u001b[0m \u001b[0;34m(\u001b[0m\u001b[0mlen\u001b[0m\u001b[0;34m(\u001b[0m\u001b[0mw\u001b[0m\u001b[0;34m)\u001b[0m \u001b[0;34m==\u001b[0m \u001b[0;36m1\u001b[0m\u001b[0;34m)\u001b[0m\u001b[0;34m:\u001b[0m\u001b[0;34m\u001b[0m\u001b[0;34m\u001b[0m\u001b[0m\n\u001b[1;32m      4\u001b[0m         \u001b[0;32mif\u001b[0m \u001b[0;34m(\u001b[0m\u001b[0mw\u001b[0m \u001b[0;32min\u001b[0m \u001b[0mletters_already_choosen\u001b[0m\u001b[0;34m)\u001b[0m\u001b[0;34m:\u001b[0m\u001b[0;34m\u001b[0m\u001b[0;34m\u001b[0m\u001b[0m\n\u001b[1;32m      5\u001b[0m             \u001b[0mprint\u001b[0m\u001b[0;34m(\u001b[0m\u001b[0;34m\"you have already chosen that letter\"\u001b[0m\u001b[0;34m)\u001b[0m\u001b[0;34m\u001b[0m\u001b[0;34m\u001b[0m\u001b[0m\n",
      "\u001b[0;32m/usr/local/lib/python3.8/site-packages/ipykernel/kernelbase.py\u001b[0m in \u001b[0;36mraw_input\u001b[0;34m(self, prompt)\u001b[0m\n\u001b[1;32m    858\u001b[0m                 \u001b[0;34m\"raw_input was called, but this frontend does not support input requests.\"\u001b[0m\u001b[0;34m\u001b[0m\u001b[0;34m\u001b[0m\u001b[0m\n\u001b[1;32m    859\u001b[0m             )\n\u001b[0;32m--> 860\u001b[0;31m         return self._input_request(str(prompt),\n\u001b[0m\u001b[1;32m    861\u001b[0m             \u001b[0mself\u001b[0m\u001b[0;34m.\u001b[0m\u001b[0m_parent_ident\u001b[0m\u001b[0;34m,\u001b[0m\u001b[0;34m\u001b[0m\u001b[0;34m\u001b[0m\u001b[0m\n\u001b[1;32m    862\u001b[0m             \u001b[0mself\u001b[0m\u001b[0;34m.\u001b[0m\u001b[0m_parent_header\u001b[0m\u001b[0;34m,\u001b[0m\u001b[0;34m\u001b[0m\u001b[0;34m\u001b[0m\u001b[0m\n",
      "\u001b[0;32m/usr/local/lib/python3.8/site-packages/ipykernel/kernelbase.py\u001b[0m in \u001b[0;36m_input_request\u001b[0;34m(self, prompt, ident, parent, password)\u001b[0m\n\u001b[1;32m    902\u001b[0m             \u001b[0;32mexcept\u001b[0m \u001b[0mKeyboardInterrupt\u001b[0m\u001b[0;34m:\u001b[0m\u001b[0;34m\u001b[0m\u001b[0;34m\u001b[0m\u001b[0m\n\u001b[1;32m    903\u001b[0m                 \u001b[0;31m# re-raise KeyboardInterrupt, to truncate traceback\u001b[0m\u001b[0;34m\u001b[0m\u001b[0;34m\u001b[0m\u001b[0;34m\u001b[0m\u001b[0m\n\u001b[0;32m--> 904\u001b[0;31m                 \u001b[0;32mraise\u001b[0m \u001b[0mKeyboardInterrupt\u001b[0m\u001b[0;34m(\u001b[0m\u001b[0;34m\"Interrupted by user\"\u001b[0m\u001b[0;34m)\u001b[0m \u001b[0;32mfrom\u001b[0m \u001b[0;32mNone\u001b[0m\u001b[0;34m\u001b[0m\u001b[0;34m\u001b[0m\u001b[0m\n\u001b[0m\u001b[1;32m    905\u001b[0m             \u001b[0;32mexcept\u001b[0m \u001b[0mException\u001b[0m \u001b[0;32mas\u001b[0m \u001b[0me\u001b[0m\u001b[0;34m:\u001b[0m\u001b[0;34m\u001b[0m\u001b[0;34m\u001b[0m\u001b[0m\n\u001b[1;32m    906\u001b[0m                 \u001b[0mself\u001b[0m\u001b[0;34m.\u001b[0m\u001b[0mlog\u001b[0m\u001b[0;34m.\u001b[0m\u001b[0mwarning\u001b[0m\u001b[0;34m(\u001b[0m\u001b[0;34m\"Invalid Message:\"\u001b[0m\u001b[0;34m,\u001b[0m \u001b[0mexc_info\u001b[0m\u001b[0;34m=\u001b[0m\u001b[0;32mTrue\u001b[0m\u001b[0;34m)\u001b[0m\u001b[0;34m\u001b[0m\u001b[0;34m\u001b[0m\u001b[0m\n",
      "\u001b[0;31mKeyboardInterrupt\u001b[0m: Interrupted by user"
     ]
    }
   ],
   "source": [
    "while hang and lost_rounds <= to_lose:\n",
    "    w = input(\"you option is: \").lower()\n",
    "    if (len(w) == 1):\n",
    "        if (w in letters_already_choosen):\n",
    "            print(\"you have already chosen that letter\")\n",
    "            print(choosen_word)\n",
    "        elif (w not in word_to_guess):\n",
    "            print(\"upssss\")\n",
    "            letters_already_choosen.append(w)\n",
    "            lost_rounds += 1\n",
    "            print(choosen_word)\n",
    "        else:\n",
    "            print(\"yaaasssss\")\n",
    "            letters_already_choosen.append(w)\n",
    "            #print(letters_already_choosen)\n",
    "            index_list = []\n",
    "            for index,letter in enumerate(word_to_guess):\n",
    "                if letter == w:\n",
    "                    index_list.append(index)\n",
    "                    #print(index_list)\n",
    "            #print(word_to_guess)\n",
    "            choosen_word_list = list(choosen_word)\n",
    "            #print(choosen_word_list)\n",
    "            for index in index_list:\n",
    "                choosen_word_list[index] = w\n",
    "                #print(choosen_word_list)\n",
    "            choosen_word = \"\".join(choosen_word_list)\n",
    "            print(choosen_word)    \n",
    "    elif (len(w) == len(word_to_guess)):\n",
    "        if (w in words_already_choosen):\n",
    "            print(\"you have already chosen that word\")\n",
    "            print(choosen_word)\n",
    "        elif (w == word_to_guess):\n",
    "            print(\"yassss, that's the word\")\n",
    "            hang == False\n",
    "        elif (w != word_to_guess):\n",
    "            print(\"upsss, that's not the word\")\n",
    "            words_already_choosen.append(w)\n",
    "            lost_rounds += 1\n",
    "            print(choosen_word)\n",
    "        else:\n",
    "            hang == True\n",
    "    else:\n",
    "        print(\"sorry, you must choose a letter\")  \n",
    "# if not hang:\n",
    "#     print(\"you win!\")\n",
    "# else: \n",
    "#     print(\"keep trying\")"
   ]
  },
  {
   "cell_type": "code",
   "execution_count": null,
   "metadata": {},
   "outputs": [],
   "source": [
    "while input(\"Wanna play again? \").lower() == \"y\":\n",
    "    \n",
    "    "
   ]
  },
  {
   "cell_type": "code",
   "execution_count": null,
   "metadata": {},
   "outputs": [],
   "source": [
    "let = [\"abece\", \"ijota\", \"eleme\"]"
   ]
  },
  {
   "cell_type": "code",
   "execution_count": null,
   "metadata": {},
   "outputs": [],
   "source": [
    "for w in let:\n",
    "    if len(w) == 5:\n",
    "        print(w)"
   ]
  },
  {
   "cell_type": "code",
   "execution_count": null,
   "metadata": {},
   "outputs": [],
   "source": [
    "numbers = [3, 5, 6, 34, 45, 4234, 563, 6435,]"
   ]
  },
  {
   "cell_type": "code",
   "execution_count": null,
   "metadata": {
    "scrolled": true
   },
   "outputs": [],
   "source": [
    "for n in numbers:\n",
    "    if n < 50:\n",
    "        pass\n",
    "    elif n > 50 & n < 1000:\n",
    "        if n > 50 & n < 500:\n",
    "            print(\"jijij\")\n",
    "        elif n > 500:\n",
    "            pass\n",
    "    else:\n",
    "        print(\"nothing\")"
   ]
  }
 ],
 "metadata": {
  "kernelspec": {
   "display_name": "Python 3",
   "language": "python",
   "name": "python3"
  },
  "language_info": {
   "codemirror_mode": {
    "name": "ipython",
    "version": 3
   },
   "file_extension": ".py",
   "mimetype": "text/x-python",
   "name": "python",
   "nbconvert_exporter": "python",
   "pygments_lexer": "ipython3",
   "version": "3.8.5"
  }
 },
 "nbformat": 4,
 "nbformat_minor": 4
}
